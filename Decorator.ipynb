{
 "cells": [
  {
   "cell_type": "code",
   "execution_count": 26,
   "metadata": {},
   "outputs": [
    {
     "name": "stdout",
     "output_type": "stream",
     "text": [
      "John.Smith@email.com\n",
      "Jim\n",
      "Jim.Smith@email.com\n",
      "Corey\n",
      "Corey.Schafer@email.com\n",
      "Corey Schafer\n",
      "Delete Name!\n",
      "<__main__.Employee object at 0x7f940403fa30>\n",
      "None None\n",
      "['__class__', '__delattr__', '__dict__', '__dir__', '__doc__', '__eq__', '__format__', '__ge__', '__getattribute__', '__gt__', '__hash__', '__init__', '__init_subclass__', '__le__', '__lt__', '__module__', '__ne__', '__new__', '__reduce__', '__reduce_ex__', '__repr__', '__setattr__', '__sizeof__', '__str__', '__subclasshook__', '__weakref__', 'email', 'first', 'fullname', 'last']\n",
      "{'first': None, 'last': None}\n"
     ]
    },
    {
     "data": {
      "text/plain": [
       "'None.None@email.com'"
      ]
     },
     "execution_count": 26,
     "metadata": {},
     "output_type": "execute_result"
    }
   ],
   "source": [
    "\n",
    "class Employee:\n",
    "\n",
    "    def __init__(self, first, last):\n",
    "        self.first = first\n",
    "        self.last = last\n",
    "\n",
    "    @property\n",
    "    def email(self):\n",
    "        return '{}.{}@email.com'.format(self.first, self.last)\n",
    "\n",
    "    @property\n",
    "    def fullname(self):\n",
    "        return '{} {}'.format(self.first, self.last)\n",
    "    \n",
    "    @fullname.setter\n",
    "    def fullname(self, name):\n",
    "        first, last = name.split(' ')\n",
    "        self.first = first\n",
    "        self.last = last\n",
    "    \n",
    "    @fullname.deleter  # will override default del\n",
    "    def fullname(self):\n",
    "        print('Delete Name!')\n",
    "        self.first = None\n",
    "        self.last = None\n",
    "\n",
    "\n",
    "emp_1 = Employee('John', 'Smith')\n",
    "print(emp_1.email)\n",
    "emp_1.email\n",
    "\n",
    "emp_1.first = 'Jim'\n",
    "# del emp_1.first\n",
    "\n",
    "\n",
    "print(emp_1.first)\n",
    "print(emp_1.email)\n",
    "\n",
    "emp_1.fullname = \"Corey Schafer\"\n",
    "\n",
    "print(emp_1.first)\n",
    "print(emp_1.email)\n",
    "print(emp_1.fullname)\n",
    "\n",
    "del emp_1.fullname\n",
    "\n",
    "print(emp_1)\n",
    "print(emp_1.fullname)\n",
    "print(dir(emp_1))\n",
    "print((emp_1.__dict__))\n",
    "\n",
    "emp_1.fullname\n",
    "emp_1.email\n",
    "\n",
    "# del emp_1.email  #AttributeError: can't delete attribute\n"
   ]
  },
  {
   "cell_type": "code",
   "execution_count": 35,
   "metadata": {},
   "outputs": [
    {
     "name": "stdout",
     "output_type": "stream",
     "text": [
      "John.Smith@email.com\n",
      "['__class__', '__delattr__', '__dict__', '__dir__', '__doc__', '__eq__', '__format__', '__ge__', '__getattribute__', '__gt__', '__hash__', '__init__', '__init_subclass__', '__le__', '__lt__', '__module__', '__ne__', '__new__', '__reduce__', '__reduce_ex__', '__repr__', '__setattr__', '__sizeof__', '__str__', '__subclasshook__', '__weakref__', 'email', 'fullname', 'last']\n",
      "{'last': 'Smith'}\n"
     ]
    },
    {
     "ename": "AttributeError",
     "evalue": "can't delete attribute",
     "output_type": "error",
     "traceback": [
      "\u001b[0;31m---------------------------------------------------------------------------\u001b[0m",
      "\u001b[0;31mAttributeError\u001b[0m                            Traceback (most recent call last)",
      "\u001b[1;32m/home/hwang/Desktop/Research_software_Study/PythonStudyNote/Decorator.ipynb Cell 2\u001b[0m line \u001b[0;36m<cell line: 36>\u001b[0;34m()\u001b[0m\n\u001b[1;32m     <a href='vscode-notebook-cell:/home/hwang/Desktop/Research_software_Study/PythonStudyNote/Decorator.ipynb#W1sZmlsZQ%3D%3D?line=30'>31</a>\u001b[0m \u001b[39m# print(emp_1.first)\u001b[39;00m\n\u001b[1;32m     <a href='vscode-notebook-cell:/home/hwang/Desktop/Research_software_Study/PythonStudyNote/Decorator.ipynb#W1sZmlsZQ%3D%3D?line=31'>32</a>\u001b[0m \u001b[39m# print(emp_1.email)\u001b[39;00m\n\u001b[1;32m     <a href='vscode-notebook-cell:/home/hwang/Desktop/Research_software_Study/PythonStudyNote/Decorator.ipynb#W1sZmlsZQ%3D%3D?line=33'>34</a>\u001b[0m emp_1\u001b[39m.\u001b[39mfullname \u001b[39m=\u001b[39m \u001b[39m\"\u001b[39m\u001b[39mCorey Schafer\u001b[39m\u001b[39m\"\u001b[39m\n\u001b[0;32m---> <a href='vscode-notebook-cell:/home/hwang/Desktop/Research_software_Study/PythonStudyNote/Decorator.ipynb#W1sZmlsZQ%3D%3D?line=35'>36</a>\u001b[0m \u001b[39mdel\u001b[39;00m emp_1\u001b[39m.\u001b[39mfullname\n\u001b[1;32m     <a href='vscode-notebook-cell:/home/hwang/Desktop/Research_software_Study/PythonStudyNote/Decorator.ipynb#W1sZmlsZQ%3D%3D?line=36'>37</a>\u001b[0m \u001b[39mprint\u001b[39m(emp_1\u001b[39m.\u001b[39mfirst)\n\u001b[1;32m     <a href='vscode-notebook-cell:/home/hwang/Desktop/Research_software_Study/PythonStudyNote/Decorator.ipynb#W1sZmlsZQ%3D%3D?line=37'>38</a>\u001b[0m \u001b[39mprint\u001b[39m(emp_1\u001b[39m.\u001b[39memail)\n",
      "\u001b[0;31mAttributeError\u001b[0m: can't delete attribute"
     ]
    }
   ],
   "source": [
    "class Employee:\n",
    "\n",
    "    def __init__(self, first, last):\n",
    "        self.first = first\n",
    "        self.last = last\n",
    "\n",
    "    @property\n",
    "    def email(self):\n",
    "        return '{}.{}@email.com'.format(self.first, self.last)\n",
    "\n",
    "    @property\n",
    "    def fullname(self):\n",
    "        return '{} {}'.format(self.first, self.last)\n",
    "    \n",
    "    @fullname.setter\n",
    "    def fullname(self, name):\n",
    "        first, last = name.split(' ')\n",
    "        self.first = first\n",
    "        self.last = last\n",
    "\n",
    "\n",
    "emp_1 = Employee('John', 'Smith')\n",
    "print(emp_1.email)\n",
    "emp_1.email\n",
    "\n",
    "emp_1.first = 'Jim'\n",
    "del emp_1.first\n",
    "print(dir(emp_1))\n",
    "print((emp_1.__dict__))\n",
    "\n",
    "# print(emp_1.first)\n",
    "# print(emp_1.email)\n",
    "\n",
    "emp_1.fullname = \"Corey Schafer\"\n",
    "\n",
    "# del emp_1.fullname\n",
    "print(emp_1.first)\n",
    "print(emp_1.email)\n",
    "print(emp_1.fullname)\n",
    "\n",
    "\n",
    "emp_1.fullname\n",
    "emp_1.email"
   ]
  },
  {
   "cell_type": "code",
   "execution_count": 33,
   "metadata": {},
   "outputs": [
    {
     "ename": "NameError",
     "evalue": "name 'self' is not defined",
     "output_type": "error",
     "traceback": [
      "\u001b[0;31m---------------------------------------------------------------------------\u001b[0m",
      "\u001b[0;31mNameError\u001b[0m                                 Traceback (most recent call last)",
      "\u001b[1;32m/home/hwang/Desktop/Research_software_Study/PythonStudyNote/Decorator.ipynb Cell 3\u001b[0m line \u001b[0;36m<cell line: 1>\u001b[0;34m()\u001b[0m\n\u001b[0;32m----> <a href='vscode-notebook-cell:/home/hwang/Desktop/Research_software_Study/PythonStudyNote/Decorator.ipynb#W2sZmlsZQ%3D%3D?line=0'>1</a>\u001b[0m \u001b[39mclass\u001b[39;00m \u001b[39mEmployee\u001b[39;00m:\n\u001b[1;32m      <a href='vscode-notebook-cell:/home/hwang/Desktop/Research_software_Study/PythonStudyNote/Decorator.ipynb#W2sZmlsZQ%3D%3D?line=2'>3</a>\u001b[0m     \u001b[39mdef\u001b[39;00m \u001b[39m__init__\u001b[39m(\u001b[39mself\u001b[39m, first, last):\n\u001b[1;32m      <a href='vscode-notebook-cell:/home/hwang/Desktop/Research_software_Study/PythonStudyNote/Decorator.ipynb#W2sZmlsZQ%3D%3D?line=3'>4</a>\u001b[0m         \u001b[39mself\u001b[39m\u001b[39m.\u001b[39mfirst \u001b[39m=\u001b[39m first\n",
      "\u001b[1;32m/home/hwang/Desktop/Research_software_Study/PythonStudyNote/Decorator.ipynb Cell 3\u001b[0m line \u001b[0;36mEmployee\u001b[0;34m()\u001b[0m\n\u001b[1;32m      <a href='vscode-notebook-cell:/home/hwang/Desktop/Research_software_Study/PythonStudyNote/Decorator.ipynb#W2sZmlsZQ%3D%3D?line=6'>7</a>\u001b[0m \u001b[39m@property\u001b[39m\n\u001b[1;32m      <a href='vscode-notebook-cell:/home/hwang/Desktop/Research_software_Study/PythonStudyNote/Decorator.ipynb#W2sZmlsZQ%3D%3D?line=7'>8</a>\u001b[0m \u001b[39mdef\u001b[39;00m \u001b[39memail\u001b[39m(\u001b[39mself\u001b[39m):\n\u001b[1;32m      <a href='vscode-notebook-cell:/home/hwang/Desktop/Research_software_Study/PythonStudyNote/Decorator.ipynb#W2sZmlsZQ%3D%3D?line=8'>9</a>\u001b[0m     \u001b[39mreturn\u001b[39;00m \u001b[39m'\u001b[39m\u001b[39m{}\u001b[39;00m\u001b[39m.\u001b[39m\u001b[39m{}\u001b[39;00m\u001b[39m@email.com\u001b[39m\u001b[39m'\u001b[39m\u001b[39m.\u001b[39mformat(\u001b[39mself\u001b[39m\u001b[39m.\u001b[39mfirst, \u001b[39mself\u001b[39m\u001b[39m.\u001b[39mlast)\n\u001b[0;32m---> <a href='vscode-notebook-cell:/home/hwang/Desktop/Research_software_Study/PythonStudyNote/Decorator.ipynb#W2sZmlsZQ%3D%3D?line=10'>11</a>\u001b[0m \u001b[39m@self\u001b[39m\u001b[39m.\u001b[39mfirst\u001b[39m.\u001b[39mdeleter  \u001b[39m# will override default del\u001b[39;00m\n\u001b[1;32m     <a href='vscode-notebook-cell:/home/hwang/Desktop/Research_software_Study/PythonStudyNote/Decorator.ipynb#W2sZmlsZQ%3D%3D?line=11'>12</a>\u001b[0m \u001b[39mdef\u001b[39;00m \u001b[39mfirst\u001b[39m(\u001b[39mself\u001b[39m):\n\u001b[1;32m     <a href='vscode-notebook-cell:/home/hwang/Desktop/Research_software_Study/PythonStudyNote/Decorator.ipynb#W2sZmlsZQ%3D%3D?line=12'>13</a>\u001b[0m     \u001b[39mprint\u001b[39m(\u001b[39m'\u001b[39m\u001b[39mDelete First!\u001b[39m\u001b[39m'\u001b[39m)\n\u001b[1;32m     <a href='vscode-notebook-cell:/home/hwang/Desktop/Research_software_Study/PythonStudyNote/Decorator.ipynb#W2sZmlsZQ%3D%3D?line=13'>14</a>\u001b[0m     \u001b[39mself\u001b[39m\u001b[39m.\u001b[39mfirst \u001b[39m=\u001b[39m \u001b[39mNone\u001b[39;00m\n",
      "\u001b[0;31mNameError\u001b[0m: name 'self' is not defined"
     ]
    }
   ],
   "source": [
    "class Employee:\n",
    "\n",
    "    def __init__(self, first, last):\n",
    "        self.first = first\n",
    "        self.last = last\n",
    "\n",
    "    @property\n",
    "    def email(self):\n",
    "        return '{}.{}@email.com'.format(self.first, self.last)\n",
    "    \n",
    "    @self.first.deleter  \n",
    "    def first(self):\n",
    "        print('Delete First!')\n",
    "        self.first = None\n",
    "\n",
    "\n",
    "\n",
    "    @property\n",
    "    def fullname(self):\n",
    "        return '{} {}'.format(self.first, self.last)\n",
    "\n",
    "\n",
    "\n",
    "emp_1 = Employee('John', 'Smith')\n",
    "print(emp_1.email)\n",
    "emp_1.email\n",
    "\n",
    "emp_1.first = 'Jim'\n",
    "del emp_1.first\n",
    "print(dir(emp_1))\n",
    "print((emp_1.__dict__))\n",
    "\n",
    "# print(emp_1.first)\n",
    "print(emp_1.email)\n",
    "\n",
    "emp_1.fullname = \"Corey Schafer\"\n",
    "\n",
    "print(emp_1.first)\n",
    "print(emp_1.email)\n",
    "print(emp_1.fullname)\n",
    "\n",
    "\n",
    "\n",
    "emp_1.fullname\n",
    "emp_1.email"
   ]
  },
  {
   "cell_type": "code",
   "execution_count": null,
   "metadata": {},
   "outputs": [],
   "source": []
  }
 ],
 "metadata": {
  "kernelspec": {
   "display_name": "modepy_py38",
   "language": "python",
   "name": "python3"
  },
  "language_info": {
   "codemirror_mode": {
    "name": "ipython",
    "version": 3
   },
   "file_extension": ".py",
   "mimetype": "text/x-python",
   "name": "python",
   "nbconvert_exporter": "python",
   "pygments_lexer": "ipython3",
   "version": "3.8.13"
  }
 },
 "nbformat": 4,
 "nbformat_minor": 2
}
