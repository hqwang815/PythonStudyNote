{
 "cells": [
  {
   "cell_type": "code",
   "execution_count": 11,
   "id": "f1a5d39a-d1f3-4522-a71c-da39f130aaf2",
   "metadata": {},
   "outputs": [
    {
     "name": "stdout",
     "output_type": "stream",
     "text": [
      "[1. 1. 1. 1. 1.] [1. 1. 1. 1. 1.]\n"
     ]
    },
    {
     "data": {
      "text/plain": [
       "(5,)"
      ]
     },
     "execution_count": 11,
     "metadata": {},
     "output_type": "execute_result"
    }
   ],
   "source": [
    "import numpy as np\n",
    "omega=np.ones(5)\n",
    "R=np.ones(np.shape(omega))\n",
    "print(omega, R)\n",
    "omega.shape"
   ]
  },
  {
   "cell_type": "code",
   "execution_count": 12,
   "id": "9208d0eb-8e0a-4b9a-8cf2-ae853b4f8730",
   "metadata": {},
   "outputs": [
    {
     "data": {
      "text/plain": [
       "2.23606797749979"
      ]
     },
     "execution_count": 12,
     "metadata": {},
     "output_type": "execute_result"
    }
   ],
   "source": [
    "np.abs(1+2j)"
   ]
  },
  {
   "cell_type": "code",
   "execution_count": 13,
   "id": "05d3dfca-f84b-4059-bc72-e865840af826",
   "metadata": {},
   "outputs": [
    {
     "name": "stdout",
     "output_type": "stream",
     "text": [
      "aha1\n"
     ]
    }
   ],
   "source": [
    "print('aha'+str(1))"
   ]
  },
  {
   "cell_type": "code",
   "execution_count": 14,
   "id": "41af11c5-4e94-46a1-a73d-3336814e9484",
   "metadata": {},
   "outputs": [
    {
     "name": "stdout",
     "output_type": "stream",
     "text": [
      "1.05\n",
      "1.05\n",
      "1.05\n",
      "John.Doe@email.com\n",
      "70000\n",
      "True\n"
     ]
    }
   ],
   "source": [
    "\n",
    "class Employee:\n",
    "\n",
    "    num_of_emps = 0\n",
    "    raise_amt = 1.04\n",
    "\n",
    "    def __init__(self, first, last, pay):\n",
    "        self.first = first\n",
    "        self.last = last\n",
    "        self.email = first + '.' + last + '@email.com'\n",
    "        self.pay = pay\n",
    "\n",
    "        Employee.num_of_emps += 1\n",
    "\n",
    "    def fullname(self):\n",
    "        return '{} {}'.format(self.first, self.last)\n",
    "\n",
    "    def apply_raise(self):\n",
    "        self.pay = int(self.pay * self.raise_amt)\n",
    "\n",
    "    @classmethod\n",
    "    def set_raise_amt(cls, amount):\n",
    "        Employee.raise_amt = amount\n",
    "\n",
    "    @classmethod\n",
    "    def from_string(cls, emp_str):\n",
    "        first, last, pay = emp_str.split('-')\n",
    "        return Employee(first, last, pay)\n",
    "\n",
    "    @staticmethod\n",
    "    def is_workday(day):\n",
    "        if day.weekday() == 5 or day.weekday() == 6:\n",
    "            return False\n",
    "        return True\n",
    "\n",
    "\n",
    "emp_1 = Employee('Corey', 'Schafer', 50000)\n",
    "emp_2 = Employee('Test', 'Employee', 60000)\n",
    "\n",
    "Employee.set_raise_amt(1.05)\n",
    "\n",
    "print(Employee.raise_amt)\n",
    "print(emp_1.raise_amt)\n",
    "print(emp_2.raise_amt)\n",
    "\n",
    "emp_str_1 = 'John-Doe-70000'\n",
    "emp_str_2 = 'Steve-Smith-30000'\n",
    "emp_str_3 = 'Jane-Doe-90000'\n",
    "\n",
    "first, last, pay = emp_str_1.split('-')\n",
    "\n",
    "#new_emp_1 = Employee(first, last, pay)\n",
    "new_emp_1 = Employee.from_string(emp_str_1)\n",
    "\n",
    "print(new_emp_1.email)\n",
    "print(new_emp_1.pay)\n",
    "\n",
    "import datetime\n",
    "my_date = datetime.date(2016, 7, 11)\n",
    "\n",
    "print(Employee.is_workday(my_date))"
   ]
  },
  {
   "cell_type": "code",
   "execution_count": 2,
   "metadata": {},
   "outputs": [
    {
     "name": "stdout",
     "output_type": "stream",
     "text": [
      "[[ 6  8]\n",
      " [10 12]]\n"
     ]
    }
   ],
   "source": [
    "import numpy as np\n",
    "\n",
    "A = np.array([[1, 2], [3, 4]])\n",
    "B = np.array([[5, 6], [7, 8]])\n",
    "\n",
    "A = A + B\n",
    "\n",
    "print(A)\n"
   ]
  },
  {
   "cell_type": "code",
   "execution_count": null,
   "metadata": {},
   "outputs": [],
   "source": [
    "self.Vx = self.Vx + self.dt**Tind / AcousticsSimulation.factorial(Tind) * self.Vx0\n",
    "                self.Vy = self.Vy + self.dt**Tind / AcousticsSimulation.factorial(Tind) * self.Vy0\n",
    "                self.Vz = self.Vz + self.dt**Tind / AcousticsSimulation.factorial(Tind) * self.Vz0\n",
    "                self.P = self.P + self.dt**Tind / AcousticsSimulation.factorial(Tind) * self.P0"
   ]
  },
  {
   "cell_type": "code",
   "execution_count": null,
   "metadata": {},
   "outputs": [],
   "source": [
    "self.cn1s = -self.c0 * self.n_xyz[0]**2 / 2\n",
    "self.cn2s = -self.c0 * self.n_xyz[1]**2 / 2\n",
    "self.cn3s = -self.c0 * self.n_xyz[2]**2 / 2\n",
    "self.cn1n2 = -self.c0 * self.n_xyz[0] * self.n_xyz[1] / 2\n",
    "self.cn1n3 = -self.c0 * self.n_xyz[0] * self.n_xyz[2] / 2\n",
    "self.cn2n3 = -self.c0 * self.n_xyz[1] * self.n_xyz[2] / 2\n",
    "self.n1rho = self.n_xyz[0] / 2 / self.rho0 \n",
    "self.n2rho = self.n_xyz[1] / 2 / self.rho0 \n",
    "self.n3rho = self.n_xyz[2] / 2 / self.rho0 \n",
    "self.csn1rho = self.c0**2 * self.rho0 * self.n_xyz[0] / 2\n",
    "self.csn2rho = self.c0**2 * self.rho0 * self.n_xyz[1] / 2\n",
    "self.csn3rho = self.c0**2 * self.rho0 * self.n_xyz[2] / 2\n",
    "\n",
    "def FluxP(self, dvx: numpy.ndarray, dvy: numpy.ndarray, dvz: numpy.ndarray, dp: numpy.ndarray):\n",
    "    return self.csn1rho * dvx + self.csn2rho * dvy + self.csn3rho * dvz - self.c0 / 2 * dp\n",
    "\n",
    "def FluxVx(self, dvx: numpy.ndarray, dvy: numpy.ndarray, dvz: numpy.ndarray, dp: numpy.ndarray):\n",
    "    return self.cn1s * dvx + self.cn1n2 * dvy + self.cn1n3 * dvz + self. n1rho * dp\n",
    "\n",
    "def FluxVy(self, dvx: numpy.ndarray, dvy: numpy.ndarray, dvz: numpy.ndarray, dp: numpy.ndarray):\n",
    "    return self.cn1n2 * dvx + self.cn2s * dvy + self.cn2n3 * dvz + self. n2rho * dp\n",
    "\n",
    "def FluxVz(self, dvx: numpy.ndarray, dvy: numpy.ndarray, dvz: numpy.ndarray, dp: numpy.ndarray):\n",
    "    return self.cn1n3 * dvx + self.cn2n3 * dvy + self.cn3s * dvz + self. n3rho * dp\n",
    "\n",
    "\n",
    "\n",
    "self.Vx = self.Vx + self.dt**Tind / AcousticsSimulation.factorial(Tind) * self.Vx0\n",
    "                self.Vy = self.Vy + self.dt**Tind / AcousticsSimulation.factorial(Tind) * self.Vy0\n",
    "                self.Vz = self.Vz + self.dt**Tind / AcousticsSimulation.factorial(Tind) * self.Vz0\n",
    "                self.P = self.P + self.dt**Tind / AcousticsSimulation.factorial(Tind) * self.P0"
   ]
  },
  {
   "cell_type": "code",
   "execution_count": null,
   "metadata": {},
   "outputs": [],
   "source": [
    "    def init_TimeIntegration(self, TI : edg_acoustics.TimeIntegrator):\n",
    "        \"\"\"setup the interior flux  calculation.\n",
    "\n",
    "        \n",
    "        Args:\n",
    "\n",
    "        Returns:\n",
    "        \"\"\"\n",
    "\n",
    "        self.dt = TI.dt\n",
    "\n",
    "        self.dVx = numpy.zeros_like(self.Fscale)\n",
    "        self.dVy = numpy.zeros_like(self.dVx)\n",
    "        self.dVz = numpy.zeros_like(self.dVx)\n",
    "        self.dP = numpy.zeros_like(self.dVx)\n",
    "        \n",
    "\n",
    "        # self.fluxVx = numpy.zeros_like(self.dVx)\n",
    "        # self.fluxVy = numpy.zeros_like(self.dVx)\n",
    "        # self.fluxVz = numpy.zeros_like(self.dVx)\n",
    "        # self.fluxP = numpy.zeros_like(self.dVx)\n",
    "\n",
    "        self.P = self.P0.copy()\n",
    "        self.Vx = self.Vx0.copy()\n",
    "        self.Vy = self.Vy0.copy()\n",
    "        self.Vz = self.Vz0.copy()\n",
    "\n",
    "\n",
    "\n",
    "        for i in range(5):\n",
    "            print(f\"step {i+1}\")\n",
    "            print(f\"time {self.dt * i}\")\n",
    "\n",
    "            for Tind in range (1,self.Nt+1):\n",
    "\n",
    "                ## below 4 lines are References\n",
    "                self.dVx.reshape(-1)[:] = self.Vx0.reshape(-1)[self.vmapM] - self.Vx0.reshape(-1)[self.vmapP]\n",
    "                self.dVy.reshape(-1)[:] = self.Vy0.reshape(-1)[self.vmapM] - self.Vy0.reshape(-1)[self.vmapP]\n",
    "                self.dVz.reshape(-1)[:] = self.Vz0.reshape(-1)[self.vmapM] - self.Vz0.reshape(-1)[self.vmapP]\n",
    "                self.dP.reshape(-1)[:] = self.P0.reshape(-1)[self.vmapM] - self.P0.reshape(-1)[self.vmapP]\n",
    "\n",
    "                fluxVx = self.Flux.FluxVx(self.dVx, self.dVy, self.dVz, self.dP)\n",
    "                fluxVy = self.Flux.FluxVy(self.dVx, self.dVy, self.dVz, self.dP)\n",
    "                fluxVz = self.Flux.FluxVz(self.dVx, self.dVy, self.dVz, self.dP)\n",
    "                fluxP = self.Flux.FluxP(self.dVx, self.dVy, self.dVz, self.dP)\n",
    "\n",
    "                for index, paras in enumerate(self.BC.BCpara):\n",
    "                    # 'RI' refers to the limit value of the reflection coefficient as the frequency approaches infinity, i.e., :math:`R_\\\\inf`. \n",
    "                    # 'RP' refers to real pole pairs, i.e., :math:`A` (stored in 1st row), :math:`\\\\zeta` (stored in 2nd row). \n",
    "                    # 'CP' refers to complex pole pairs, i.e., :math:`B` (stored in 1st row), :math:`C` (stored in 2nd row),\n",
    "                    # :math:`\\\\alpha` (stored in 3rd row), :math:`\\\\beta`(stored in 4th row).\n",
    "                    self.BC.BCvar[index]['vn'] = self.n_xyz[0].reshape(-1)[self.BCnode[index]['map']] * self.Vx0.reshape(-1)[self.BCnode[index]['vmap']] + \\\n",
    "                                            self.n_xyz[1].reshape(-1)[self.BCnode[index]['map']] * self.Vy0.reshape(-1)[self.BCnode[index]['vmap']] + \\\n",
    "                                            self.n_xyz[2].reshape(-1)[self.BCnode[index]['map']] * self.Vz0.reshape(-1)[self.BCnode[index]['vmap']] \n",
    "                    self.BC.BCvar[index]['ou'] = self.BC.BCvar[index]['vn'] + self.P0.reshape(-1)[self.BCnode[index]['vmap']] / self.rho0 / self.c0\n",
    "                    self.BC.BCvar[index]['in'] = self.BC.BCvar[index]['ou'] * paras['RI']\n",
    "\n",
    "                    for polekey in paras:\n",
    "                        if polekey == 'RP':\n",
    "                            for i in range(paras['RP'].shape[1]):\n",
    "                                self.BC.BCvar[index]['in'] = self.BC.BCvar[index]['in'] + paras['RP'][0, i] * self.BC.BCvar[index]['phi'][i]\n",
    "                        elif polekey == 'CP':\n",
    "                            pass  # to be added\n",
    "\n",
    "                    fluxVx.reshape(-1)[self.BCnode[index]['map']] = self.n_xyz[0].reshape(-1)[self.BCnode[index]['map']] * self.P0.reshape(-1)[self.BCnode[index]['vmap']] / self.rho0 - \\\n",
    "                                                                        self.n_xyz[0].reshape(-1)[self.BCnode[index]['map']] * self.c0 * (self.BC.BCvar[index]['ou'] + self.BC.BCvar[index]['in']) / 2\n",
    "                    fluxVy.reshape(-1)[self.BCnode[index]['map']] = self.n_xyz[1].reshape(-1)[self.BCnode[index]['map']] * self.P0.reshape(-1)[self.BCnode[index]['vmap']] / self.rho0 - \\\n",
    "                                                                        self.n_xyz[1].reshape(-1)[self.BCnode[index]['map']] * self.c0 * (self.BC.BCvar[index]['ou'] + self.BC.BCvar[index]['in']) / 2\n",
    "                    fluxVz.reshape(-1)[self.BCnode[index]['map']] = self.n_xyz[2].reshape(-1)[self.BCnode[index]['map']] * self.P0.reshape(-1)[self.BCnode[index]['vmap']] / self.rho0 - \\\n",
    "                                                                        self.n_xyz[2].reshape(-1)[self.BCnode[index]['map']] * self.c0 * (self.BC.BCvar[index]['ou'] + self.BC.BCvar[index]['in']) / 2\n",
    "                    fluxP.reshape(-1)[self.BCnode[index]['map']] = self.c0**2 * self.rho0 * (self.BC.BCvar[index]['vn'] - 0.5 * (self.BC.BCvar[index]['ou'] - self.BC.BCvar[index]['in']))\n",
    "\n",
    "                TP0 = self.P0.copy()\n",
    "                self.P0 = -self.c0**2 * self.rho0 * (self.grad_3d(self.Vx0, 'x', self.rst_xyz, self.Dr, self.Ds, self.Dt) + \n",
    "                                                    self.grad_3d(self.Vy0, 'y', self.rst_xyz, self.Dr, self.Ds, self.Dt) + \n",
    "                                                    self.grad_3d(self.Vz0, 'z', self.rst_xyz, self.Dr, self.Ds, self.Dt)) + self.lift @ (self.Fscale * fluxP)\n",
    "                dPdx, dPdy, dPdz = self.grad_3d(TP0, 'grad', self.rst_xyz, self.Dr, self.Ds, self.Dt)\n",
    "                print(id(self.Vx0))\n",
    "                self.Vx0 = -dPdx / self.rho0 + self.lift @ (self.Fscale * fluxVx)\n",
    "                print(id(self.Vx0))\n",
    "\n",
    "                print(id(self.Vx0))\n",
    "                self.Vx0 = -dPdx / self.rho0 \n",
    "                print(id(self.Vx0))\n",
    "\n",
    "                print(id(self.Vx0))\n",
    "                self.Vx0 =  self.lift @ (self.Fscale * fluxVx)\n",
    "                print(id(self.Vx0))\n",
    "\n",
    "\n",
    "\n",
    "\n",
    "                self.Vy0 = -dPdy / self.rho0 + self.lift @ (self.Fscale * fluxVy)\n",
    "                self.Vz0 = -dPdz / self.rho0 + self.lift @ (self.Fscale * fluxVz)\n",
    "\n",
    "                self.Vx += self.dt**Tind / AcousticsSimulation.factorial(Tind) * self.Vx0\n",
    "                self.Vy += self.dt**Tind / AcousticsSimulation.factorial(Tind) * self.Vy0\n",
    "                self.Vz += self.dt**Tind / AcousticsSimulation.factorial(Tind) * self.Vz0\n",
    "                self.P += self.dt**Tind / AcousticsSimulation.factorial(Tind) * self.P0\n",
    "                # self.P +=  self.dt**Tind / AcousticsSimulation.factorial(Tind) * self.P0\n",
    "\n",
    "                for index, paras in enumerate(self.BC.BCpara):\n",
    "                    for polekey in paras:\n",
    "                        if polekey == 'RP':\n",
    "                            for i in range(paras['RP'].shape[1]):\n",
    "                                self.BC.BCvar[index]['phi'] = self.BC.BCvar[index]['ou'] - paras['RP'][1, i] * self.BC.BCvar[index]['phi'][i]\n",
    "\n",
    "                            self.BC.BCvar[index]['PHI'] += self.dt**Tind / AcousticsSimulation.factorial(Tind) * self.BC.BCvar[index]['phi']\n",
    "                        elif polekey == 'CP':\n",
    "                            pass  # to be added\n",
    "\n",
    "            self.P0 = self.P.copy()\n",
    "            self.Vx0 = self.Vx.copy()\n",
    "            self.Vy0 = self.Vy.copy()\n",
    "            self.Vz0 = self.Vz.copy()\n",
    "            for index, paras in enumerate(self.BC.BCpara):\n",
    "                for polekey in paras:\n",
    "                    if polekey == 'RP':\n",
    "                        self.BC.BCvar[index]['phi'] = self.BC.BCvar[index]['PHI'].copy()\n",
    "                    elif polekey == 'CP':\n",
    "                        pass  # to be added\n",
    "            print(f\"max P inside loop {self.P.max()}\")\n",
    "\n",
    "        # print(f\"max P outside loop {self.P.max()}\")\n",
    "    \n",
    "\n"
   ]
  },
  {
   "cell_type": "code",
   "execution_count": null,
   "id": "fb95c9cb",
   "metadata": {},
   "outputs": [],
   "source": [
    "# self.dVx = numpy.zeros_like(self.Fscale)\n",
    "# self.dVy = numpy.zeros_like(self.dVx)\n",
    "# self.dVz = numpy.zeros_like(self.dVx)\n",
    "# self.dP = numpy.zeros_like(self.dVx)\n",
    "\n",
    "\n",
    "# self.fluxVx = numpy.zeros_like(self.dVx)\n",
    "# self.fluxVy = numpy.zeros_like(self.dVx)\n",
    "# self.fluxVz = numpy.zeros_like(self.dVx)\n",
    "# self.fluxP = numpy.zeros_like(self.dVx)\n",
    "# self.P = numpy.zeros_like(self.P0)\n",
    "# self.Vx = numpy.zeros_like(self.P0)\n",
    "# self.Vy = numpy.zeros_like(self.P0)\n",
    "# self.Vz = numpy.zeros_like(self.P0)"
   ]
  },
  {
   "cell_type": "code",
   "execution_count": null,
   "id": "83a65ec2",
   "metadata": {},
   "outputs": [],
   "source": [
    "# print(f\"outside, self.P ID {id(self.P)}, self.P0 ID {id(self.P0)}\")\n",
    "# print(f\"outside, self.BC.BCvar ID {id(self.BC.BCvar)}\")\n",
    "\n",
    "TI.step_dt()  \n",
    "\n",
    "# print(f\"outside,after loop, self.P ID {id(self.P)}, self.P0 ID {id(self.P0)}\")\n",
    "# print(f\"outside after loop, self.BC.BCvar ID {id(self.BC.BCvar)}\")\n",
    "\n",
    "print(f\"max P outside loop {self.P.max()}\")"
   ]
  }
 ],
 "metadata": {
  "kernelspec": {
   "display_name": "Python 3 (ipykernel)",
   "language": "python",
   "name": "python3"
  },
  "language_info": {
   "codemirror_mode": {
    "name": "ipython",
    "version": 3
   },
   "file_extension": ".py",
   "mimetype": "text/x-python",
   "name": "python",
   "nbconvert_exporter": "python",
   "pygments_lexer": "ipython3",
   "version": "3.8.13"
  }
 },
 "nbformat": 4,
 "nbformat_minor": 5
}
