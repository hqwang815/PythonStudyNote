{
 "cells": [
  {
   "cell_type": "markdown",
   "metadata": {},
   "source": [
    "Functions defined inside another function are known as nested functions or inner functions. Here's an example:"
   ]
  },
  {
   "cell_type": "code",
   "execution_count": 2,
   "metadata": {},
   "outputs": [
    {
     "name": "stdout",
     "output_type": "stream",
     "text": [
      "15\n"
     ]
    }
   ],
   "source": [
    "def outer_function(x):\n",
    "    def inner_function(y):\n",
    "        return x + y\n",
    "    \n",
    "    result = inner_function(10)\n",
    "    return result\n",
    "\n",
    "# Calling the outer function\n",
    "result_outer = outer_function(5)\n",
    "print(result_outer)\n"
   ]
  },
  {
   "cell_type": "markdown",
   "metadata": {},
   "source": [
    "In this example:\n",
    "\n",
    "- inner_function is defined inside outer_function.\n",
    "- inner_function can access the variables of its containing (enclosing) scope, in this case, the parameter x of outer_function.\n",
    "\n",
    "### Pros of using nested functions:\n",
    "\n",
    "1. Encapsulation: Inner functions are not visible outside the outer function, providing a level of encapsulation. They can only be accessed within the scope of the outer function, reducing the risk of naming conflicts.\n",
    "\n",
    "2. Code Organization: Nested functions can help organize code by grouping related functionality together. Inner functions are often used for helper functions that are only relevant within the context of the outer function.\n",
    "\n",
    "3. Closures: Inner functions can capture and remember the values of variables in their enclosing scope even after the outer function has finished execution. This behavior is known as closure.\n",
    "\n",
    "### Cons and considerations:\n",
    "\n",
    "1. Limited Reusability: Functions defined within another function are not directly reusable outside that function. If you need to reuse the inner function elsewhere, it might be more appropriate to define it at the module level.\n",
    "\n",
    "2. Readability: Excessive nesting can make code less readable if not used judiciously. Avoid overly deep nesting and consider refactoring if nesting becomes too complex.\n",
    "\n",
    "3. Potential for Side Effects: Modifying variables from the outer function within the inner function may introduce unexpected side effects. Be mindful of variable scope and mutability.\n",
    "\n",
    "Overall, nested functions are a useful tool for certain situations, particularly when you want to encapsulate functionality and create closures. However, like any feature, they should be used in moderation and with consideration for code readability and maintainability."
   ]
  },
  {
   "cell_type": "markdown",
   "metadata": {},
   "source": [
    "## Closures \n",
    "Closures are a powerful and often subtle feature of Python that arise when a nested function references a variable from its containing (enclosing) scope and that variable is used after the outer function has finished execution. In other words, a closure allows a function to \"remember\" the values of variables in its lexical scope even when the function is called outside that scope."
   ]
  },
  {
   "cell_type": "code",
   "execution_count": 3,
   "metadata": {},
   "outputs": [
    {
     "name": "stdout",
     "output_type": "stream",
     "text": [
      "15\n"
     ]
    }
   ],
   "source": [
    "def outer_function(x):\n",
    "    def inner_function(y):\n",
    "        return x + y\n",
    "    \n",
    "    return inner_function\n",
    "\n",
    "# Creating a closure\n",
    "closure_instance = outer_function(5)\n",
    "\n",
    "# Calling the closure with an argument\n",
    "result_closure = closure_instance(10)\n",
    "print(result_closure)\n"
   ]
  },
  {
   "cell_type": "markdown",
   "metadata": {},
   "source": [
    "- inner_function is defined within outer_function.\n",
    "- outer_function returns inner_function, creating a closure.\n",
    "- When closure_instance is called with an argument (10), it remembers the value of x from the enclosing scope (5), creating a closure.\n",
    "- The closure retains access to the variables from the enclosing scope, even though outer_function has finished executing.\n",
    "\n",
    "Closures have a few important characteristics:\n",
    "\n",
    "1. Access to Enclosing Scope: The inner function (inner_function) has access to the variables of the enclosing scope (x in this case) even after the outer function (outer_function) has completed execution.\n",
    "\n",
    "2. Preservation of Values: The values of the variables in the enclosing scope are preserved when the closure is created. In the example, the closure remembers the value of x as 5 even though outer_function has finished executing.\n",
    "\n",
    "Closures are commonly used in scenarios where you want to create functions that encapsulate behavior with specific parameters. They are particularly useful for creating factory functions, decorators, and callback functions."
   ]
  },
  {
   "cell_type": "code",
   "execution_count": 4,
   "metadata": {},
   "outputs": [
    {
     "name": "stdout",
     "output_type": "stream",
     "text": [
      "10\n",
      "15\n"
     ]
    }
   ],
   "source": [
    "def multiplier_factory(factor):\n",
    "    def multiplier(x):\n",
    "        return x * factor\n",
    "    return multiplier\n",
    "\n",
    "# Creating closures with different factors\n",
    "double = multiplier_factory(2)\n",
    "triple = multiplier_factory(3)\n",
    "\n",
    "print(double(5))  # Output: 10\n",
    "print(triple(5))  # Output: 15\n"
   ]
  }
 ],
 "metadata": {
  "kernelspec": {
   "display_name": "modepy_py38",
   "language": "python",
   "name": "python3"
  },
  "language_info": {
   "codemirror_mode": {
    "name": "ipython",
    "version": 3
   },
   "file_extension": ".py",
   "mimetype": "text/x-python",
   "name": "python",
   "nbconvert_exporter": "python",
   "pygments_lexer": "ipython3",
   "version": "3.8.13"
  }
 },
 "nbformat": 4,
 "nbformat_minor": 2
}
