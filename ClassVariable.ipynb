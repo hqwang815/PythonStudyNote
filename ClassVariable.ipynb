{
 "cells": [
  {
   "cell_type": "code",
   "execution_count": 4,
   "metadata": {},
   "outputs": [
    {
     "name": "stdout",
     "output_type": "stream",
     "text": [
      "{'first': 'Corey', 'last': 'Schafer', 'email': 'Corey.Schafer@email.com', 'pay': 50000}\n",
      "1.04\n",
      "1.04\n",
      "1.04\n",
      "1.06\n",
      "1.06\n",
      "1.06\n",
      "1.06\n",
      "1.1\n",
      "1.06\n",
      "{'first': 'Corey', 'last': 'Schafer', 'email': 'Corey.Schafer@email.com', 'pay': 50000, 'raise_amt': 1.1}\n",
      "55000\n"
     ]
    }
   ],
   "source": [
    "class Employee:\n",
    "\n",
    "    num_of_emps = 0\n",
    "    raise_amt = 1.04\n",
    "\n",
    "    def __init__(self, first, last, pay):\n",
    "        self.first = first\n",
    "        self.last = last\n",
    "        self.email = first + '.' + last + '@email.com'\n",
    "        self.pay = pay\n",
    "\n",
    "        Employee.num_of_emps += 1\n",
    "\n",
    "    def fullname(self):\n",
    "        return '{} {}'.format(self.first, self.last)\n",
    "\n",
    "    def apply_raise(self):\n",
    "        self.pay = int(self.pay * self.raise_amt)\n",
    "\n",
    "    @classmethod\n",
    "    def set_raise_amt(cls, amount):\n",
    "        cls.raise_amt = amount\n",
    "        # Employee.raise_amt = amount  # also works\n",
    "\n",
    "    @classmethod\n",
    "    def from_string(cls, emp_str):\n",
    "        first, last, pay = emp_str.split('-')\n",
    "        return Employee(first, last, pay)\n",
    "        # return cls(first, last, pay)  # also works\n",
    "\n",
    "\n",
    "emp_1 = Employee('Corey', 'Schafer', 50000)\n",
    "emp_2 = Employee('Test', 'Employee', 60000)\n",
    "\n",
    "print(emp_1.__dict__)\n",
    "# print(dir(emp_1))\n",
    "print(Employee.raise_amt)\n",
    "print(emp_1.raise_amt)\n",
    "print(emp_2.raise_amt)\n",
    "\n",
    "# Employee.raise_amt=1.05\n",
    "Employee.set_raise_amt(1.05)\n",
    "\n",
    "print(Employee.raise_amt)\n",
    "print(emp_1.raise_amt)\n",
    "print(emp_2.raise_amt)\n",
    "\n",
    "emp_1.raise_amt=1.1  # creates the raise_amt attribute within emp_1\n",
    "\n",
    "print(Employee.raise_amt)\n",
    "print(emp_1.raise_amt)\n",
    "print(emp_2.raise_amt)\n",
    "print(emp_1.__dict__)\n",
    "\n",
    "emp_1.apply_raise()  # would use emp_1.raise_amt instead of class.raise_amt, since we use self.raise_amt in the method\n",
    "print(emp_1.pay)\n"
   ]
  },
  {
   "cell_type": "markdown",
   "metadata": {},
   "source": [
    "- class variables and instance variables are closely related, and that class variables are kind of 'inherited' to the 'self' variables. To illustrate this, Corey shows an example of 'annual raise of pay'. He initially creates the class variable to show a case where annual raise is equal among all the employees. This variable of 1.04 was accessible through each instance, and also through the class itself(obiviously). That is,\n",
    "print(Employee.annual_raise)\n",
    "print(emp_1.annual_raise)\n",
    "print(emp_2.anual_rais)\n",
    "all printed out 1.04.\n",
    "\n",
    "\n",
    "- However, using the ._dict__  thing, Corey shows that the intances, emp_1 and emp_2 does not contain the annual_raise value. Corey explains that if a variable is not found within an instance and programmers try to access the variable, python automatically looks in in the variable of the instance's class, and then the more classes that the instance's class inherits from.\n",
    "\n",
    "\n",
    "- Furthermore, if we access the class variable through an instance and then change it, python creates the variable within the instance. We can check it by using the ._dict_ thing. Corey shows that annual_raise key was created when he manually changed the annual_raise value as 1.05 in the following way.\n",
    "emp_1.annual_raise = 1.05\n",
    "however, we know that the class variable remained the same at 1.04, when printing the class variable.\n",
    "print(Employee.annual_raise)"
   ]
  }
 ],
 "metadata": {
  "kernelspec": {
   "display_name": "modepy_py38",
   "language": "python",
   "name": "python3"
  },
  "language_info": {
   "codemirror_mode": {
    "name": "ipython",
    "version": 3
   },
   "file_extension": ".py",
   "mimetype": "text/x-python",
   "name": "python",
   "nbconvert_exporter": "python",
   "pygments_lexer": "ipython3",
   "version": "3.8.13"
  }
 },
 "nbformat": 4,
 "nbformat_minor": 2
}
