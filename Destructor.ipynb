{
 "cells": [
  {
   "cell_type": "markdown",
   "metadata": {},
   "source": [
    "- The __del__ method is called for any object when the reference count for that object becomes zero.\n",
    "- The reference count for that object becomes zero when the application ends, or we delete all references manually using the del keyword.\n",
    "- The destructor will not invoke when we delete object reference. It will only invoke when all references to the objects get deleted.\n",
    "- the destructor is executed when the code (application) ends and the object is available for the garbage collector. (I.e., we didn’t delete object reference s2 manually using del s2)."
   ]
  },
  {
   "cell_type": "code",
   "execution_count": 4,
   "metadata": {},
   "outputs": [
    {
     "name": "stdout",
     "output_type": "stream",
     "text": [
      "Inside Constructor\n",
      "Hello, my name is Emma\n",
      "After sleep\n",
      "Hello, my name is Emma\n",
      "Object destroyed\n"
     ]
    }
   ],
   "source": [
    "import time\n",
    "\n",
    "class Student:\n",
    "\n",
    "    # constructor\n",
    "    def __init__(self, name):\n",
    "        print('Inside Constructor')\n",
    "        self.name = name\n",
    "\n",
    "    def show(self):\n",
    "        print('Hello, my name is', self.name)\n",
    "\n",
    "    # destructor\n",
    "    def __del__(self):\n",
    "        print('Object destroyed')\n",
    "\n",
    "# create object\n",
    "s1 = Student('Emma')\n",
    "# create new reference\n",
    "# both reference points to the same object\n",
    "s2 = s1\n",
    "s1.show()\n",
    "\n",
    "# delete object reference s1\n",
    "del s1\n",
    "\n",
    "# add sleep and observe the output\n",
    "time.sleep(0.5)\n",
    "print('After sleep')\n",
    "s2.show()\n",
    "\n",
    "del s2"
   ]
  },
  {
   "cell_type": "markdown",
   "metadata": {},
   "source": [
    "# Circular Referencing\n",
    "The __del()__() doesn’t work correctly in the case of circular referencing. In circular referencing occurs when two objects refer to each other.\n",
    "\n",
    "When both objects go out of scope, Python doesn’t know which object to destroy first. So, to avoid any errors, it doesn’t destroy any of them.\n",
    "\n"
   ]
  },
  {
   "cell_type": "code",
   "execution_count": 6,
   "metadata": {},
   "outputs": [
    {
     "name": "stdout",
     "output_type": "stream",
     "text": [
      "Vehicle 12 created\n",
      "Car 12 created\n"
     ]
    }
   ],
   "source": [
    "import time\n",
    "\n",
    "\n",
    "class Vehicle():\n",
    "    def __init__(self, id, car):\n",
    "        self.id = id;\n",
    "        # saving reference of Car object\n",
    "        self.dealer = car;\n",
    "        print('Vehicle', self.id, 'created');\n",
    "\n",
    "    def __del__(self):\n",
    "        print('Vehicle', self.id, 'destroyed');\n",
    "\n",
    "\n",
    "class Car():\n",
    "    def __init__(self, id):\n",
    "        self.id = id;\n",
    "        # saving Vehicle class object in 'dealer' variable\n",
    "        # Sending reference of Car object ('self') for Vehicle object\n",
    "        self.dealer = Vehicle(id, self);\n",
    "        print('Car', self.id, 'created')\n",
    "\n",
    "    def __del__(self):\n",
    "        print('Car', self.id, 'destroyed')\n",
    "\n",
    "\n",
    "# create car object\n",
    "c = Car(12)\n",
    "# delete car object\n",
    "del c\n",
    "# ideally destructor must execute now\n",
    "\n",
    "# to observe the behavior\n",
    "time.sleep(0.2)"
   ]
  },
  {
   "cell_type": "markdown",
   "metadata": {},
   "source": [
    "# Exception in __init__ Method\n",
    "In object-oriented programming, A constructor is a special method used to create and initialize an object of a class. using the __init__() method we can implement a constructor to initialize the object.\n",
    "\n",
    "In OOP, if any exception occurs in the constructor while initializing the object, the constructor destroys the object.\n",
    "\n",
    "Likewise, in Python, if any exception occurs in the init method while initializing the object, the method del gets called. But actually, an object is not created successfully, and resources are not allocated to it\n",
    "\n",
    "even though the object was never initialized correctly, the del method will try to empty all the resources and, in turn, may lead to another exception."
   ]
  },
  {
   "cell_type": "code",
   "execution_count": 9,
   "metadata": {},
   "outputs": [
    {
     "ename": "Exception",
     "evalue": "Not Allowed",
     "output_type": "error",
     "traceback": [
      "\u001b[0;31m---------------------------------------------------------------------------\u001b[0m",
      "\u001b[0;31mException\u001b[0m                                 Traceback (most recent call last)",
      "\u001b[1;32m/home/hwang/Desktop/Research_software_Study/PythonStudyNote/Destructor.ipynb Cell 6\u001b[0m line \u001b[0;36m<cell line: 11>\u001b[0;34m()\u001b[0m\n\u001b[1;32m      <a href='vscode-notebook-cell:/home/hwang/Desktop/Research_software_Study/PythonStudyNote/Destructor.ipynb#X11sZmlsZQ%3D%3D?line=7'>8</a>\u001b[0m         \u001b[39mprint\u001b[39m(\u001b[39m'\u001b[39m\u001b[39mRelease resources\u001b[39m\u001b[39m'\u001b[39m)\n\u001b[1;32m     <a href='vscode-notebook-cell:/home/hwang/Desktop/Research_software_Study/PythonStudyNote/Destructor.ipynb#X11sZmlsZQ%3D%3D?line=9'>10</a>\u001b[0m \u001b[39m# creating an object\u001b[39;00m\n\u001b[0;32m---> <a href='vscode-notebook-cell:/home/hwang/Desktop/Research_software_Study/PythonStudyNote/Destructor.ipynb#X11sZmlsZQ%3D%3D?line=10'>11</a>\u001b[0m car \u001b[39m=\u001b[39m Vehicle(\u001b[39m350\u001b[39;49m);\n\u001b[1;32m     <a href='vscode-notebook-cell:/home/hwang/Desktop/Research_software_Study/PythonStudyNote/Destructor.ipynb#X11sZmlsZQ%3D%3D?line=11'>12</a>\u001b[0m \u001b[39m# to delete the object explicitly\u001b[39;00m\n\u001b[1;32m     <a href='vscode-notebook-cell:/home/hwang/Desktop/Research_software_Study/PythonStudyNote/Destructor.ipynb#X11sZmlsZQ%3D%3D?line=12'>13</a>\u001b[0m \u001b[39mdel\u001b[39;00m car\n",
      "\u001b[1;32m/home/hwang/Desktop/Research_software_Study/PythonStudyNote/Destructor.ipynb Cell 6\u001b[0m line \u001b[0;36mVehicle.__init__\u001b[0;34m(self, speed)\u001b[0m\n\u001b[1;32m      <a href='vscode-notebook-cell:/home/hwang/Desktop/Research_software_Study/PythonStudyNote/Destructor.ipynb#X11sZmlsZQ%3D%3D?line=1'>2</a>\u001b[0m \u001b[39mdef\u001b[39;00m \u001b[39m__init__\u001b[39m(\u001b[39mself\u001b[39m, speed):\n\u001b[1;32m      <a href='vscode-notebook-cell:/home/hwang/Desktop/Research_software_Study/PythonStudyNote/Destructor.ipynb#X11sZmlsZQ%3D%3D?line=2'>3</a>\u001b[0m     \u001b[39mif\u001b[39;00m speed \u001b[39m>\u001b[39m \u001b[39m240\u001b[39m:\n\u001b[0;32m----> <a href='vscode-notebook-cell:/home/hwang/Desktop/Research_software_Study/PythonStudyNote/Destructor.ipynb#X11sZmlsZQ%3D%3D?line=3'>4</a>\u001b[0m         \u001b[39mraise\u001b[39;00m \u001b[39mException\u001b[39;00m(\u001b[39m'\u001b[39m\u001b[39mNot Allowed\u001b[39m\u001b[39m'\u001b[39m);\n\u001b[1;32m      <a href='vscode-notebook-cell:/home/hwang/Desktop/Research_software_Study/PythonStudyNote/Destructor.ipynb#X11sZmlsZQ%3D%3D?line=4'>5</a>\u001b[0m     \u001b[39mself\u001b[39m\u001b[39m.\u001b[39mspeed \u001b[39m=\u001b[39m speed\n",
      "\u001b[0;31mException\u001b[0m: Not Allowed"
     ]
    }
   ],
   "source": [
    "class Vehicle:\n",
    "    def __init__(self, speed):\n",
    "        if speed > 240:\n",
    "            raise Exception('Not Allowed');\n",
    "        self.speed = speed;\n",
    "\n",
    "    def __del__(self):\n",
    "        print('Release resources')\n",
    "\n",
    "# creating an object\n",
    "car = Vehicle(350);\n",
    "# to delete the object explicitly\n",
    "del car\n"
   ]
  }
 ],
 "metadata": {
  "kernelspec": {
   "display_name": "modepy_py38",
   "language": "python",
   "name": "python3"
  },
  "language_info": {
   "codemirror_mode": {
    "name": "ipython",
    "version": 3
   },
   "file_extension": ".py",
   "mimetype": "text/x-python",
   "name": "python",
   "nbconvert_exporter": "python",
   "pygments_lexer": "ipython3",
   "version": "3.8.13"
  }
 },
 "nbformat": 4,
 "nbformat_minor": 2
}
