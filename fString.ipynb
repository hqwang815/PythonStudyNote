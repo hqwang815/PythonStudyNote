{
 "cells": [
  {
   "cell_type": "code",
   "execution_count": 1,
   "metadata": {},
   "outputs": [
    {
     "name": "stdout",
     "output_type": "stream",
     "text": [
      "MyClass(x=10, y=20)\n",
      "(10, 20)\n"
     ]
    }
   ],
   "source": [
    "class MyClass:\n",
    "    def __init__(self, x, y):\n",
    "        self.x = x\n",
    "        self.y = y\n",
    "\n",
    "    def __repr__(self):\n",
    "        return f\"MyClass(x={self.x}, y={self.y})\"\n",
    "\n",
    "    def __str__(self):\n",
    "        return f\"({self.x}, {self.y})\"\n",
    "\n",
    "# Creating an instance of the class\n",
    "obj = MyClass(10, 20)\n",
    "\n",
    "# Using repr() and str() to get different representations\n",
    "print(repr(obj))  # Calls obj.__repr__()\n",
    "print(str(obj))   # Calls obj.__str__()\n"
   ]
  },
  {
   "cell_type": "markdown",
   "metadata": {},
   "source": [
    "The line f\"MyClass(x={self.x}, y={self.y})\" is an example of an f-string, which is a feature introduced in Python 3.6. F-strings are a concise and convenient way to embed expressions inside string literals.\n",
    "\n",
    "In this particular f-string, the expression inside the curly braces ({}) is evaluated, and its result is inserted into the string at that location. Here's a breakdown of the f-string used in the __repr__ method:\n",
    "\n",
    "f\": The 'f' at the beginning indicates that this is an f-string.\n",
    "MyClass(x=: The initial part of the string before the first curly brace is a regular string.\n",
    "{self.x}: Inside the curly braces, the expression self.x is evaluated, and its value is inserted into the string. This is the value of the x attribute of the instance.\n",
    ", y=: This is another part of the regular string.\n",
    "{self.y}: Inside these curly braces, the expression self.y is evaluated, and its value is inserted into the string. This is the value of the y attribute of the instance.\n",
    ")\": The closing parenthesis and double quote to complete the string.\n",
    "So, for a MyClass instance with x=10 and y=20, the result of the f-string would be the string \"MyClass(x=10, y=20)\".\n",
    "\n",
    "If you remove the f at the beginning of the string, it will become a regular string without f-string formatting. The expression inside the curly braces will be treated as a literal string, not as an expression to be evaluated. Here's how it would look:"
   ]
  },
  {
   "cell_type": "code",
   "execution_count": 2,
   "metadata": {},
   "outputs": [
    {
     "name": "stdout",
     "output_type": "stream",
     "text": [
      "MyClass(x=10, y=20)\n",
      "(10, 20)\n"
     ]
    }
   ],
   "source": [
    "class MyClass:\n",
    "    def __init__(self, x, y):\n",
    "        self.x = x\n",
    "        self.y = y\n",
    "\n",
    "    def __repr__(self):\n",
    "        return \"MyClass(x={}, y={})\".format(self.x, self.y)\n",
    "\n",
    "    def __str__(self):\n",
    "        return \"({}, {})\".format(self.x, self.y)\n",
    "\n",
    "# Creating an instance of the class\n",
    "obj = MyClass(10, 20)\n",
    "\n",
    "# Using repr() and str() to get different representations\n",
    "print(repr(obj))  # Calls obj.__repr__()\n",
    "print(str(obj))   # Calls obj.__str__()\n"
   ]
  },
  {
   "cell_type": "code",
   "execution_count": 1,
   "metadata": {},
   "outputs": [
    {
     "name": "stdout",
     "output_type": "stream",
     "text": [
      "Toyota Camry Sedan\n",
      "Ford Explorer SUV\n"
     ]
    }
   ],
   "source": [
    "class Car:\n",
    "    def __init__(self, make, model):\n",
    "        self.make = make\n",
    "        self.model = model\n",
    "\n",
    "    def display_info(self):\n",
    "        print(f\"{self.make} {self.model}\")\n",
    "\n",
    "    @classmethod\n",
    "    def create_sedan(cls, make, model):\n",
    "        # Factory method for creating a sedan\n",
    "        return cls(make, f\"{model} Sedan\")\n",
    "\n",
    "    @classmethod\n",
    "    def create_suv(cls, make, model):\n",
    "        # Factory method for creating an SUV\n",
    "        return cls(make, f\"{model} SUV\")\n",
    "\n",
    "# Using the factory methods to create instances\n",
    "sedan = Car.create_sedan(\"Toyota\", \"Camry\")\n",
    "suv = Car.create_suv(\"Ford\", \"Explorer\")\n",
    "\n",
    "# Displaying information about the created cars\n",
    "sedan.display_info()\n",
    "suv.display_info()\n"
   ]
  }
 ],
 "metadata": {
  "kernelspec": {
   "display_name": "modepy_py38",
   "language": "python",
   "name": "python3"
  },
  "language_info": {
   "codemirror_mode": {
    "name": "ipython",
    "version": 3
   },
   "file_extension": ".py",
   "mimetype": "text/x-python",
   "name": "python",
   "nbconvert_exporter": "python",
   "pygments_lexer": "ipython3",
   "version": "3.8.13"
  }
 },
 "nbformat": 4,
 "nbformat_minor": 2
}
