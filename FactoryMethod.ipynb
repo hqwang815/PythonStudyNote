{
 "cells": [
  {
   "cell_type": "code",
   "execution_count": 1,
   "metadata": {},
   "outputs": [
    {
     "name": "stdout",
     "output_type": "stream",
     "text": [
      "<function outer_function.<locals>.inner_function at 0x7f92b02fe790>\n",
      "15\n"
     ]
    }
   ],
   "source": [
    "def outer_function(x):\n",
    "    def inner_function(y):\n",
    "        return x + y\n",
    "    \n",
    "    return inner_function\n",
    "\n",
    "# Creating a closure\n",
    "closure_instance = outer_function(5)\n",
    "print(closure_instance)\n",
    "\n",
    "# Calling the closure with an argument\n",
    "result_closure = closure_instance(10)\n",
    "print(result_closure)\n"
   ]
  },
  {
   "cell_type": "code",
   "execution_count": 2,
   "metadata": {},
   "outputs": [
    {
     "name": "stdout",
     "output_type": "stream",
     "text": [
      "10\n",
      "20\n",
      "30\n",
      "99\n",
      "88\n",
      "30\n"
     ]
    }
   ],
   "source": [
    "class MyClass:\n",
    "    def __init__(self, sim):\n",
    "        self.sim = sim\n",
    "\n",
    "    def my_method(self):\n",
    "        # Create local variables referencing attributes from self.sim\n",
    "        attr1 = self.sim.attr1\n",
    "        attr2 = self.sim.attr2\n",
    "        attr3 = self.sim.attr3\n",
    "\n",
    "        # Now you can use attr1, attr2, and attr3 within the method\n",
    "        print(attr1)\n",
    "        print(attr2)\n",
    "        print(attr3)\n",
    "\n",
    "# Example\n",
    "class Simulation:\n",
    "    def __init__(self, attr1, attr2, attr3):\n",
    "        self.attr1 = attr1\n",
    "        self.attr2 = attr2\n",
    "        self.attr3 = attr3\n",
    "\n",
    "# Create an instance of Simulation\n",
    "sim_instance = Simulation(10, 20, 30)\n",
    "\n",
    "# Create an instance of MyClass using the Simulation instance\n",
    "my_instance = MyClass(sim_instance)\n",
    "\n",
    "# Call the method that uses attributes from the sim_instance\n",
    "my_instance.my_method()\n",
    "\n",
    "# Modify attributes of the original sim_instance\n",
    "sim_instance.attr1 = 99\n",
    "sim_instance.attr2 = 88\n",
    "\n",
    "# Call the method again\n",
    "my_instance.my_method()\n"
   ]
  },
  {
   "cell_type": "code",
   "execution_count": 6,
   "metadata": {},
   "outputs": [
    {
     "name": "stdout",
     "output_type": "stream",
     "text": [
      "0\n",
      "1\n",
      "2\n"
     ]
    }
   ],
   "source": [
    "for i in range(3):\n",
    "    print (i)"
   ]
  }
 ],
 "metadata": {
  "kernelspec": {
   "display_name": "modepy_py38",
   "language": "python",
   "name": "python3"
  },
  "language_info": {
   "codemirror_mode": {
    "name": "ipython",
    "version": 3
   },
   "file_extension": ".py",
   "mimetype": "text/x-python",
   "name": "python",
   "nbconvert_exporter": "python",
   "pygments_lexer": "ipython3",
   "version": "3.8.13"
  }
 },
 "nbformat": 4,
 "nbformat_minor": 2
}
